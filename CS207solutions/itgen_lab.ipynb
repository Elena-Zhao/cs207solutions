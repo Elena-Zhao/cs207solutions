{
 "cells": [
  {
   "cell_type": "markdown",
   "metadata": {
    "collapsed": true
   },
   "source": [
    "## Q1.\n",
    "\n",
    "Add methods `__iter__` to your project Time Series class to iterate over values, a method `itertimes` to iterate over times, a method `itervalues` to iterate over values, and a method `iteritems` to iterate over time-value pairs. (This is a similar interface to python dictionaries). To test these, check both the types of the results and the answers you expect."
   ]
  },
  {
   "cell_type": "code",
   "execution_count": 1,
   "metadata": {
    "collapsed": true
   },
   "outputs": [],
   "source": [
    "#your code here\n",
    "import numpy as np\n",
    "import reprlib\n",
    "import numbers\n",
    "\n",
    "class TimeSeries():\n",
    "    '''A class for storing temporally-ordered data.'''\n",
    "\n",
    "    def __init__(self, init_t, init_v):\n",
    "        '''\n",
    "        Create a TimeSeries object from reference data.\n",
    "        args:\n",
    "          init: a sequence-like object containing pairs of numeric types.\n",
    "            This is *required*, even if it is an empty list.\n",
    "            Data can always be added later, but this behavior makes it less likely\n",
    "            uninitialized TimeSeries objects will get nonsensically passed around.\n",
    "            The first element of every pair should be monotonically increasing.\n",
    "        '''\n",
    "        self._t = np.array(init_t)\n",
    "        self._v = np.array(init_v)\n",
    "\n",
    "    def __getitem__(self, t):\n",
    "        where = self._t==t\n",
    "        if np.any(where):\n",
    "            return self._v[where][0]\n",
    "\n",
    "    def __setitem__(self, t, v):\n",
    "        where = self._t==t\n",
    "        if np.any(where):\n",
    "            self._v[where] = v\n",
    "\n",
    "    def __contains__(self, v):\n",
    "        return v in self._v\n",
    "\n",
    "    def __iter__(self):\n",
    "        for v in self._v:\n",
    "            yield v\n",
    "\n",
    "    def values(self):\n",
    "        '''Returns just the values of the time series.'''\n",
    "        return self._v\n",
    "\n",
    "    def itervalues(self):\n",
    "        '''Returns an iterator over the values of the time series.'''\n",
    "        for v in self._v:\n",
    "            yield v\n",
    "\n",
    "    def times(self):\n",
    "        '''Returns just the time points of the time series.'''\n",
    "        return self._t\n",
    "    \n",
    "    def itertimes(self):\n",
    "        '''Returns an iterator over the time points of the time series.'''\n",
    "        for t in self._t:\n",
    "            yield t\n",
    "\n",
    "    def items(self):\n",
    "        '''Returns all (value,time) pairs from the time series.'''\n",
    "        return list(zip(self._v, self._t))\n",
    "    \n",
    "    def iteritems(self):\n",
    "        '''Returns all (value,time) pairs from the time series.'''\n",
    "        return zip(self._v, self._t)\n",
    "\n",
    "    def __len__(self):\n",
    "        return len(self._v)\n"
   ]
  },
  {
   "cell_type": "markdown",
   "metadata": {},
   "source": [
    "## Q2.\n",
    "\n",
    "An online mean and standard deviation algorithm.\n",
    "\n",
    "Below is a function to generate a potentially infinite stream of 1-D data."
   ]
  },
  {
   "cell_type": "code",
   "execution_count": 50,
   "metadata": {
    "collapsed": false
   },
   "outputs": [],
   "source": [
    "from random import normalvariate, random\n",
    "from itertools import count\n",
    "def make_data(m, stop=None):\n",
    "    for _ in count():\n",
    "        if stop and _ > stop:\n",
    "            break\n",
    "        yield 1.0e09 + normalvariate(0, m*random() )\n",
    "        "
   ]
  },
  {
   "cell_type": "markdown",
   "metadata": {},
   "source": [
    "Here is an implementation of an online mean algorithm..see http://www.johndcook.com/blog/standard_deviation/ and the link to http://www.johndcook.com/blog/2008/09/26/comparing-three-methods-of-computing-standard-deviation/ in-between. (Convince yourselves of the formulas...)"
   ]
  },
  {
   "cell_type": "code",
   "execution_count": 157,
   "metadata": {
    "collapsed": true
   },
   "outputs": [],
   "source": [
    "def online_mean(iterator):\n",
    "    n = 0\n",
    "    mu = 0\n",
    "    for value in iterator:\n",
    "        n += 1\n",
    "        delta = value - mu\n",
    "        mu = mu + delta/n\n",
    "        yield mu"
   ]
  },
  {
   "cell_type": "markdown",
   "metadata": {},
   "source": [
    "We use out generator functions to implement iterators:"
   ]
  },
  {
   "cell_type": "code",
   "execution_count": 161,
   "metadata": {
    "collapsed": false
   },
   "outputs": [
    {
     "data": {
      "text/plain": [
       "[999999999.7656724,\n",
       " 1000000000.6274325,\n",
       " 1000000003.7758981,\n",
       " 999999996.0674763,\n",
       " 1000000001.9113333,\n",
       " 999999999.7434896,\n",
       " 999999993.2691914,\n",
       " 999999999.1117319,\n",
       " 1000000000.9274582,\n",
       " 1000000002.23507,\n",
       " 999999999.878448]"
      ]
     },
     "execution_count": 161,
     "metadata": {},
     "output_type": "execute_result"
    }
   ],
   "source": [
    "g = make_data(5, 10)\n",
    "list(g)"
   ]
  },
  {
   "cell_type": "code",
   "execution_count": 159,
   "metadata": {
    "collapsed": false
   },
   "outputs": [
    {
     "name": "stdout",
     "output_type": "stream",
     "text": [
      "<class 'generator'>\n"
     ]
    },
    {
     "data": {
      "text/plain": [
       "[999999997.5868304,\n",
       " 1000000002.0134393,\n",
       " 1000000001.8733623,\n",
       " 1000000001.2120469,\n",
       " 1000000001.1716702,\n",
       " 1000000000.4667126,\n",
       " 1000000000.5998436,\n",
       " 1000000000.4183294,\n",
       " 1000000000.5597438,\n",
       " 1000000000.5023081,\n",
       " 1000000000.4029907,\n",
       " 1000000000.2789339,\n",
       " 1000000000.4295208,\n",
       " 1000000000.1196861,\n",
       " 1000000000.1279308,\n",
       " 1000000000.3334513,\n",
       " 1000000000.3139879,\n",
       " 1000000000.3254998,\n",
       " 1000000000.3092072,\n",
       " 1000000000.2576585,\n",
       " 1000000000.2815876,\n",
       " 1000000000.331565,\n",
       " 1000000000.3070619,\n",
       " 1000000000.2942008,\n",
       " 1000000000.2558479,\n",
       " 1000000000.0969156,\n",
       " 999999999.8548498,\n",
       " 999999999.866622,\n",
       " 999999999.7307874,\n",
       " 999999999.581027,\n",
       " 999999999.5903629,\n",
       " 999999999.6376853,\n",
       " 999999999.3061813,\n",
       " 999999999.3098277,\n",
       " 999999999.3396436,\n",
       " 999999999.4933454,\n",
       " 999999999.4945222,\n",
       " 999999999.504842,\n",
       " 999999999.5231825,\n",
       " 999999999.4817737,\n",
       " 999999999.5027447,\n",
       " 999999999.4654695,\n",
       " 999999999.4021502,\n",
       " 999999999.2523974,\n",
       " 999999999.1905079,\n",
       " 999999999.3095661,\n",
       " 999999999.3507677,\n",
       " 999999999.2651911,\n",
       " 999999999.3426483,\n",
       " 999999999.3078667,\n",
       " 999999999.4319203,\n",
       " 999999999.4236674,\n",
       " 999999999.4306912,\n",
       " 999999999.3106076,\n",
       " 999999999.2632769,\n",
       " 999999999.2993227,\n",
       " 999999999.2712169,\n",
       " 999999999.3492993,\n",
       " 999999999.4123834,\n",
       " 999999999.3474123,\n",
       " 999999999.361425,\n",
       " 999999999.2559518,\n",
       " 999999999.2675679,\n",
       " 999999999.266521,\n",
       " 999999999.2700729,\n",
       " 999999999.2216218,\n",
       " 999999999.195547,\n",
       " 999999999.196141,\n",
       " 999999999.2135667,\n",
       " 999999999.227742,\n",
       " 999999999.2456312,\n",
       " 999999999.211484,\n",
       " 999999999.1310996,\n",
       " 999999999.0257205,\n",
       " 999999999.0470606,\n",
       " 999999999.0380756,\n",
       " 999999999.0503832,\n",
       " 999999998.9942174,\n",
       " 999999999.0061998,\n",
       " 999999998.9966873,\n",
       " 999999999.012812,\n",
       " 999999999.0093508,\n",
       " 999999999.032447,\n",
       " 999999999.0720016,\n",
       " 999999999.0853987,\n",
       " 999999999.1051371,\n",
       " 999999999.1311151,\n",
       " 999999999.0663714,\n",
       " 999999999.0874883,\n",
       " 999999999.0932564,\n",
       " 999999999.1170304,\n",
       " 999999999.0785863,\n",
       " 999999999.1413577,\n",
       " 999999999.1157576,\n",
       " 999999999.125998,\n",
       " 999999999.146852,\n",
       " 999999999.1516006,\n",
       " 999999999.2064582,\n",
       " 999999999.217808,\n",
       " 999999999.2204438,\n",
       " 999999999.2173668]"
      ]
     },
     "execution_count": 159,
     "metadata": {},
     "output_type": "execute_result"
    }
   ],
   "source": [
    "g = online_mean(make_data(5, 100))\n",
    "print(type(g))\n",
    "list(g)"
   ]
  },
  {
   "cell_type": "markdown",
   "metadata": {},
   "source": [
    "### 2.1\n",
    "\n",
    "Implement the standard deviation algorithm as a generator function as\n",
    "\n",
    "```python\n",
    "def online_mean_dev(iterator):\n",
    "    BLA BLA\n",
    "    if n > 1:\n",
    "        stddev = math.sqrt(dev_accum/(n-1))\n",
    "        yield (n, value, mu, stddev)\n",
    "```"
   ]
  },
  {
   "cell_type": "code",
   "execution_count": 54,
   "metadata": {
    "collapsed": false
   },
   "outputs": [],
   "source": [
    "# your code here\n",
    "import math\n",
    "def online_mean_dev(iterator):\n",
    "    n = 0\n",
    "    mu = 0\n",
    "    dev_accum = 0\n",
    "    for value in iterator:\n",
    "        n += 1\n",
    "        delta = value - mu\n",
    "        mu = mu + delta/n\n",
    "        dev_accum = dev_accum + delta*(value - mu)\n",
    "        if n > 1:\n",
    "            stddev = math.sqrt(dev_accum/(n-1))\n",
    "            yield (n, value, mu, stddev)"
   ]
  },
  {
   "cell_type": "markdown",
   "metadata": {},
   "source": [
    "Here we make 100000 element data, and run this iterator on it (imagine running this on a time-series being slowly read from disk"
   ]
  },
  {
   "cell_type": "code",
   "execution_count": 162,
   "metadata": {
    "collapsed": true
   },
   "outputs": [],
   "source": [
    "data_with_stats = online_mean_dev(make_data(5, 100000))"
   ]
  },
  {
   "cell_type": "markdown",
   "metadata": {},
   "source": [
    "## Q3.\n",
    "\n",
    "Let's do Anomaly detection. Write a routine `is_ok`:\n",
    "\n",
    "```python\n",
    "def is_ok(level, t)\n",
    "```\n",
    "\n",
    "which takes a tuple like the one yielded by your code above and returns True if the value is inbetween `level`-$\\sigma$ of the mean."
   ]
  },
  {
   "cell_type": "code",
   "execution_count": 91,
   "metadata": {
    "collapsed": true
   },
   "outputs": [],
   "source": [
    "#your code here\n",
    "def is_ok(level, t):\n",
    "    n, value, mu, sigma = t\n",
    "    low = mu - level*sigma\n",
    "    high = mu + level*sigma\n",
    "    return low < value < high\n"
   ]
  },
  {
   "cell_type": "markdown",
   "metadata": {},
   "source": [
    "We use this function to create a predicate passed through to `itertools.filterfalse` which is then used to obtain an iterator on the anomalies."
   ]
  },
  {
   "cell_type": "code",
   "execution_count": 163,
   "metadata": {
    "collapsed": true
   },
   "outputs": [],
   "source": [
    "from itertools import filterfalse\n",
    "pred = lambda t: is_ok(5, t)\n",
    "anomalies = filterfalse(pred, data_with_stats)"
   ]
  },
  {
   "cell_type": "markdown",
   "metadata": {},
   "source": [
    "We materialize the anomalies..."
   ]
  },
  {
   "cell_type": "code",
   "execution_count": 164,
   "metadata": {
    "collapsed": false
   },
   "outputs": [
    {
     "data": {
      "text/plain": [
       "[(1437, 1000000015.3969947, 999999999.9834799, 2.8720472277715783),\n",
       " (3539, 1000000015.2153754, 1000000000.0135044, 2.8450915652151894),\n",
       " (6479, 999999983.333909, 999999999.9885885, 2.879403009895133),\n",
       " (7607, 1000000014.595981, 999999999.99259, 2.8742771376746994),\n",
       " (16918, 999999984.7531024, 999999999.9869336, 2.8602778618743057),\n",
       " (19333, 1000000015.0314125, 999999999.9911495, 2.8569528008579983),\n",
       " (19438, 1000000016.1911799, 999999999.9908891, 2.8579857593666187),\n",
       " (21057, 999999984.1167829, 999999999.9905019, 2.8620946233352806),\n",
       " (30123, 1000000014.630911, 999999999.9990067, 2.865450987897285),\n",
       " (32538, 999999984.0739291, 999999999.9936726, 2.8687768516193763),\n",
       " (33989, 1000000015.9683862, 999999999.9954549, 2.8702020095875382),\n",
       " (40053, 999999985.2921027, 999999999.9900451, 2.8611434831477935),\n",
       " (40579, 1000000020.709818, 999999999.9925895, 2.8648092759234838),\n",
       " (44096, 1000000015.3838378, 1000000000.0056177, 2.865237932343893),\n",
       " (46328, 999999983.9251215, 1000000000.0111825, 2.867998060611876),\n",
       " (49032, 999999985.6648244, 1000000000.0072114, 2.863484991102541),\n",
       " (55521, 1000000014.7560564, 1000000000.0018038, 2.8663228535777363),\n",
       " (57656, 999999985.6581502, 1000000000.0056216, 2.86610936733275),\n",
       " (59701, 1000000015.0936229, 1000000000.0055972, 2.8671770455253975),\n",
       " (60319, 999999985.562111, 1000000000.0056794, 2.867105690008491),\n",
       " (61239, 1000000015.3249798, 1000000000.0049802, 2.871417815389756),\n",
       " (68334, 999999985.4423113, 1000000000.0006402, 2.867983128872309),\n",
       " (68638, 999999981.225401, 999999999.9995811, 2.866224885240386),\n",
       " (70719, 999999985.1028044, 999999999.9998856, 2.868806127491173),\n",
       " (77469, 1000000015.0897697, 999999999.9952923, 2.876411941869993),\n",
       " (78955, 999999985.304353, 999999999.9949716, 2.876631527483044),\n",
       " (81852, 999999984.993637, 999999999.99358, 2.880454673898067),\n",
       " (84424, 1000000015.4374698, 999999999.9948285, 2.8802762246091045),\n",
       " (84616, 999999985.520018, 999999999.9950287, 2.8807815759900803),\n",
       " (86967, 999999983.9982773, 999999999.9950632, 2.8769373079235354),\n",
       " (88417, 1000000016.3159645, 999999999.9956154, 2.8771446680819963),\n",
       " (88493, 1000000015.3531334, 999999999.9957031, 2.878072256785626),\n",
       " (91202, 1000000014.6869985, 999999999.9943535, 2.878388516500398),\n",
       " (93450, 1000000014.3903208, 999999999.9953625, 2.876991589538565),\n",
       " (96974, 999999985.309941, 999999999.9987806, 2.8770498598084258)]"
      ]
     },
     "execution_count": 164,
     "metadata": {},
     "output_type": "execute_result"
    }
   ],
   "source": [
    "list(anomalies)#materialize"
   ]
  },
  {
   "cell_type": "markdown",
   "metadata": {},
   "source": [
    "## To think of, but not hand in\n",
    "\n",
    "What kinds of anomalies will this algorithm pick up? What kinds would a shorter \"window\" of anomaly detection, like 100 points around the time in question pick? How might you create an algorithm which does window based averaging? (hint: the window size is small compared to the time series size). \n",
    "\n",
    "Finally think a bit of how you might implement all of this in a production environment..remember that data streaming in might get backed up when you handle an anomaly.\n",
    "\n",
    "(Some inspiration might accrue if you look at the docs for `collections.deque`)."
   ]
  },
  {
   "cell_type": "code",
   "execution_count": null,
   "metadata": {
    "collapsed": true
   },
   "outputs": [],
   "source": []
  }
 ],
 "metadata": {
  "kernelspec": {
   "display_name": "Python 3",
   "language": "python",
   "name": "python3"
  },
  "language_info": {
   "codemirror_mode": {
    "name": "ipython",
    "version": 3
   },
   "file_extension": ".py",
   "mimetype": "text/x-python",
   "name": "python",
   "nbconvert_exporter": "python",
   "pygments_lexer": "ipython3",
   "version": "3.5.1"
  }
 },
 "nbformat": 4,
 "nbformat_minor": 0
}
